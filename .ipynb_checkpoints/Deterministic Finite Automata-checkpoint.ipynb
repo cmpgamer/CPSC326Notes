{
 "cells": [
  {
   "cell_type": "markdown",
   "metadata": {},
   "source": [
    "# DFAs\n",
    "\n",
    "5-tuple, $M=(Q$ $,\\sum$ $,\\delta$ $, q_0$ $,F)$\n",
    "\n",
    "$\\delta: Q$ $x$ $\\sum \\rightarrow Q$\n",
    "\n",
    "$\\vdash_M$ $ \\subseteq (Q$ $x \\sum^*)$ $x$ $(Q$ $x\\sum^*)$\n",
    "\n",
    "$(q, w_1) \\vdash_M  (p,w_2)$ $\\text{iff } w_1 = aw_2,$ $a \\in \\sum \\text{ and }\\delta(q,a) = p$\n",
    "\n",
    "** ADD FIRST IMAGE**\n",
    "\n",
    "$Q = \\{q_0, q_1\\}$\n",
    "\n",
    "$\\sum = \\{a\\}$\n",
    "\n",
    "$F = \\{q_0\\}$\n",
    "\n",
    "$\\delta(q_0, a) = q_1$ $\\delta(q_1, a) = q_0$\n",
    "\n",
    "$L(M_1) = \\{w \\in \\{a\\}^* : |w| \\text{ is even} \\}$\n",
    "\n",
    "## Define\n",
    "\n",
    "A language is called a **regular language** if some finite automaton recognizes it.\n",
    "\n",
    "$(p, \\lambda)$\n",
    "\n",
    "$p \\in F$ $\\text{or}$ $p \\notin F$\n",
    "\n",
    "## Define\n",
    "\n",
    "Let $M$ be a finite automaton. We define $\\vdash_M^A$ as the reflexive and transitive closure of $\\vdash_M$\n",
    "\n",
    "$(q,w) \\vdash_M^* (p,u)$ if\n",
    "\n",
    "1. $q = p$ and $w = u$\n",
    "2. $(q,w) \\vdash_M (q_1, w_1) \\vdash_M ... \\vdash_M (p,u)$\n",
    "\n",
    "## Define\n",
    "\n",
    "$\\hat{\\delta}: Q$ $x$ $\\sum^* \\rightarrow Q \\text{ by }$\n",
    "1. $\\hat{\\delta} (q,\\lambda) = q$ $\\forall q \\in Q$\n",
    "2. $\\hat{\\delta} (q, wa) = \\delta(\\hat{\\delta} (q,w),a)$ $\\forall a \\in \\sum$\n",
    "\n",
    "### Example\n",
    "\n",
    "$w = aaa$\n",
    "\n",
    "$\\hat{\\delta}(q_0, aaa), a)$\n",
    "\n",
    "$\\delta(\\hat{\\delta}(q_0, aa), a)$\n",
    "\n",
    "$\\delta(\\delta(\\hat{\\delta}(q_0, a), a), a)$\n",
    "\n",
    "$\\delta(\\delta(\\delta(\\hat{\\delta}(q_0, \\lambda), a), a), a)$\n",
    "\n",
    "$\\delta(q_0, u) = q_1$\n",
    "\n",
    "$L(M) = \\{w \\in \\sum^* : \\hat{\\delta}(q_0, w) \\in F)$"
   ]
  },
  {
   "cell_type": "code",
   "execution_count": null,
   "metadata": {
    "collapsed": true
   },
   "outputs": [],
   "source": []
  }
 ],
 "metadata": {
  "kernelspec": {
   "display_name": "Python [Root]",
   "language": "python",
   "name": "Python [Root]"
  },
  "language_info": {
   "codemirror_mode": {
    "name": "ipython",
    "version": 3
   },
   "file_extension": ".py",
   "mimetype": "text/x-python",
   "name": "python",
   "nbconvert_exporter": "python",
   "pygments_lexer": "ipython3",
   "version": "3.5.2"
  }
 },
 "nbformat": 4,
 "nbformat_minor": 0
}
